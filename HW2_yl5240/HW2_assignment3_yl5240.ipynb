{
 "cells": [
  {
   "cell_type": "code",
   "execution_count": 2,
   "metadata": {
    "collapsed": false
   },
   "outputs": [],
   "source": [
    "import os\n",
    "import pandas as pd"
   ]
  },
  {
   "cell_type": "code",
   "execution_count": 3,
   "metadata": {
    "collapsed": false
   },
   "outputs": [
    {
     "data": {
      "text/plain": [
       "'/gws/open/NYCOpenData/nycopendata/data'"
      ]
     },
     "execution_count": 3,
     "metadata": {},
     "output_type": "execute_result"
    }
   ],
   "source": [
    "os.getenv('DFDATA')"
   ]
  },
  {
   "cell_type": "code",
   "execution_count": 4,
   "metadata": {
    "collapsed": false
   },
   "outputs": [],
   "source": [
    "df = pd.read_csv(os.getenv('DFDATA') + '/eccv-9dzr/ARCHIVED_FHV_Bases_20170310.csv')"
   ]
  },
  {
   "cell_type": "code",
   "execution_count": 5,
   "metadata": {
    "collapsed": false,
    "scrolled": true
   },
   "outputs": [
    {
     "data": {
      "text/html": [
       "<div>\n",
       "<table border=\"1\" class=\"dataframe\">\n",
       "  <thead>\n",
       "    <tr style=\"text-align: right;\">\n",
       "      <th></th>\n",
       "      <th>Base License</th>\n",
       "      <th>Base Name</th>\n",
       "      <th>Base Phone</th>\n",
       "      <th>Street Hail Livery Endorsement</th>\n",
       "      <th>Wheelchair Accessible Vehicles</th>\n",
       "      <th>Base Type</th>\n",
       "      <th>Street Number</th>\n",
       "      <th>Street</th>\n",
       "      <th>City</th>\n",
       "      <th>State</th>\n",
       "      <th>Zip</th>\n",
       "      <th>Location</th>\n",
       "      <th>Longitude</th>\n",
       "      <th>Latitude</th>\n",
       "    </tr>\n",
       "  </thead>\n",
       "  <tbody>\n",
       "    <tr>\n",
       "      <th>0</th>\n",
       "      <td>B01452</td>\n",
       "      <td>AREAS TRANSP INC</td>\n",
       "      <td>(718)967-3232</td>\n",
       "      <td>NO</td>\n",
       "      <td>0</td>\n",
       "      <td>LIVERY BASE</td>\n",
       "      <td>5230</td>\n",
       "      <td>ARTHUR KILL ROAD</td>\n",
       "      <td>STATEN ISLAND</td>\n",
       "      <td>NY</td>\n",
       "      <td>10307</td>\n",
       "      <td>(40.515693, -74.24379)</td>\n",
       "      <td>-74.243790</td>\n",
       "      <td>40.515693</td>\n",
       "    </tr>\n",
       "    <tr>\n",
       "      <th>1</th>\n",
       "      <td>B00972</td>\n",
       "      <td>N.J.M.INC.</td>\n",
       "      <td>(718)967-2500</td>\n",
       "      <td>YES</td>\n",
       "      <td>0</td>\n",
       "      <td>LIVERY BASE</td>\n",
       "      <td>566</td>\n",
       "      <td>INDUSTRIAL LOOP</td>\n",
       "      <td>STATEN ISLAND</td>\n",
       "      <td>NY</td>\n",
       "      <td>10309</td>\n",
       "      <td>(40.547111, -74.230602)</td>\n",
       "      <td>-74.230602</td>\n",
       "      <td>40.547111</td>\n",
       "    </tr>\n",
       "    <tr>\n",
       "      <th>2</th>\n",
       "      <td>B00023</td>\n",
       "      <td>F.J.A. LIVERY CORP</td>\n",
       "      <td>(718)698-4493</td>\n",
       "      <td>NO</td>\n",
       "      <td>0</td>\n",
       "      <td>LIVERY BASE</td>\n",
       "      <td>3747A</td>\n",
       "      <td>VICTORY BOULEVARD</td>\n",
       "      <td>STATEN ISLAND</td>\n",
       "      <td>NY</td>\n",
       "      <td>10314</td>\n",
       "      <td>(40.597937, -74.180879)</td>\n",
       "      <td>-74.180879</td>\n",
       "      <td>40.597937</td>\n",
       "    </tr>\n",
       "    <tr>\n",
       "      <th>3</th>\n",
       "      <td>B01537</td>\n",
       "      <td>S.I. SPEED INC.</td>\n",
       "      <td>(718)227-6666</td>\n",
       "      <td>YES</td>\n",
       "      <td>0</td>\n",
       "      <td>LIVERY BASE</td>\n",
       "      <td>16</td>\n",
       "      <td>GIFFORDS LANE</td>\n",
       "      <td>STATEN ISLAND</td>\n",
       "      <td>NY</td>\n",
       "      <td>10308</td>\n",
       "      <td>(40.551166, -74.150331)</td>\n",
       "      <td>-74.150331</td>\n",
       "      <td>40.551166</td>\n",
       "    </tr>\n",
       "    <tr>\n",
       "      <th>4</th>\n",
       "      <td>B02028</td>\n",
       "      <td>FOREST AVENUE CAR SERVICE INC</td>\n",
       "      <td>(718)981-4400</td>\n",
       "      <td>NO</td>\n",
       "      <td>0</td>\n",
       "      <td>LIVERY BASE</td>\n",
       "      <td>1841</td>\n",
       "      <td>FOREST AVENUE</td>\n",
       "      <td>STATEN ISLAND</td>\n",
       "      <td>NY</td>\n",
       "      <td>10303</td>\n",
       "      <td>(40.625268, -74.150026)</td>\n",
       "      <td>-74.150026</td>\n",
       "      <td>40.625268</td>\n",
       "    </tr>\n",
       "  </tbody>\n",
       "</table>\n",
       "</div>"
      ],
      "text/plain": [
       "  Base License                      Base Name     Base Phone  \\\n",
       "0       B01452               AREAS TRANSP INC  (718)967-3232   \n",
       "1       B00972                     N.J.M.INC.  (718)967-2500   \n",
       "2       B00023             F.J.A. LIVERY CORP  (718)698-4493   \n",
       "3       B01537                S.I. SPEED INC.  (718)227-6666   \n",
       "4       B02028  FOREST AVENUE CAR SERVICE INC  (718)981-4400   \n",
       "\n",
       "  Street Hail Livery Endorsement  Wheelchair Accessible Vehicles    Base Type  \\\n",
       "0                             NO                               0  LIVERY BASE   \n",
       "1                            YES                               0  LIVERY BASE   \n",
       "2                             NO                               0  LIVERY BASE   \n",
       "3                            YES                               0  LIVERY BASE   \n",
       "4                             NO                               0  LIVERY BASE   \n",
       "\n",
       "  Street Number             Street           City State    Zip  \\\n",
       "0          5230   ARTHUR KILL ROAD  STATEN ISLAND    NY  10307   \n",
       "1           566    INDUSTRIAL LOOP  STATEN ISLAND    NY  10309   \n",
       "2         3747A  VICTORY BOULEVARD  STATEN ISLAND    NY  10314   \n",
       "3            16      GIFFORDS LANE  STATEN ISLAND    NY  10308   \n",
       "4          1841      FOREST AVENUE  STATEN ISLAND    NY  10303   \n",
       "\n",
       "                  Location  Longitude   Latitude  \n",
       "0   (40.515693, -74.24379) -74.243790  40.515693  \n",
       "1  (40.547111, -74.230602) -74.230602  40.547111  \n",
       "2  (40.597937, -74.180879) -74.180879  40.597937  \n",
       "3  (40.551166, -74.150331) -74.150331  40.551166  \n",
       "4  (40.625268, -74.150026) -74.150026  40.625268  "
      ]
     },
     "execution_count": 5,
     "metadata": {},
     "output_type": "execute_result"
    }
   ],
   "source": [
    "df.head()"
   ]
  },
  {
   "cell_type": "code",
   "execution_count": 6,
   "metadata": {
    "collapsed": false
   },
   "outputs": [
    {
     "data": {
      "text/html": [
       "<div>\n",
       "<table border=\"1\" class=\"dataframe\">\n",
       "  <thead>\n",
       "    <tr style=\"text-align: right;\">\n",
       "      <th></th>\n",
       "      <th>Wheelchair Accessible Vehicles</th>\n",
       "      <th>Zip</th>\n",
       "      <th>Longitude</th>\n",
       "      <th>Latitude</th>\n",
       "    </tr>\n",
       "  </thead>\n",
       "  <tbody>\n",
       "    <tr>\n",
       "      <th>count</th>\n",
       "      <td>1032.000000</td>\n",
       "      <td>1032.000000</td>\n",
       "      <td>1032.000000</td>\n",
       "      <td>1032.000000</td>\n",
       "    </tr>\n",
       "    <tr>\n",
       "      <th>mean</th>\n",
       "      <td>2.947674</td>\n",
       "      <td>10952.092054</td>\n",
       "      <td>-73.907154</td>\n",
       "      <td>40.721783</td>\n",
       "    </tr>\n",
       "    <tr>\n",
       "      <th>std</th>\n",
       "      <td>27.195438</td>\n",
       "      <td>771.411272</td>\n",
       "      <td>0.121092</td>\n",
       "      <td>0.096290</td>\n",
       "    </tr>\n",
       "    <tr>\n",
       "      <th>min</th>\n",
       "      <td>0.000000</td>\n",
       "      <td>6830.000000</td>\n",
       "      <td>-74.496064</td>\n",
       "      <td>40.250959</td>\n",
       "    </tr>\n",
       "    <tr>\n",
       "      <th>25%</th>\n",
       "      <td>0.000000</td>\n",
       "      <td>11035.750000</td>\n",
       "      <td>-73.973264</td>\n",
       "      <td>40.651165</td>\n",
       "    </tr>\n",
       "    <tr>\n",
       "      <th>50%</th>\n",
       "      <td>0.000000</td>\n",
       "      <td>11218.000000</td>\n",
       "      <td>-73.928685</td>\n",
       "      <td>40.716708</td>\n",
       "    </tr>\n",
       "    <tr>\n",
       "      <th>75%</th>\n",
       "      <td>0.000000</td>\n",
       "      <td>11356.250000</td>\n",
       "      <td>-73.854206</td>\n",
       "      <td>40.762341</td>\n",
       "    </tr>\n",
       "    <tr>\n",
       "      <th>max</th>\n",
       "      <td>831.000000</td>\n",
       "      <td>11971.000000</td>\n",
       "      <td>-72.404469</td>\n",
       "      <td>41.345334</td>\n",
       "    </tr>\n",
       "  </tbody>\n",
       "</table>\n",
       "</div>"
      ],
      "text/plain": [
       "       Wheelchair Accessible Vehicles           Zip    Longitude     Latitude\n",
       "count                     1032.000000   1032.000000  1032.000000  1032.000000\n",
       "mean                         2.947674  10952.092054   -73.907154    40.721783\n",
       "std                         27.195438    771.411272     0.121092     0.096290\n",
       "min                          0.000000   6830.000000   -74.496064    40.250959\n",
       "25%                          0.000000  11035.750000   -73.973264    40.651165\n",
       "50%                          0.000000  11218.000000   -73.928685    40.716708\n",
       "75%                          0.000000  11356.250000   -73.854206    40.762341\n",
       "max                        831.000000  11971.000000   -72.404469    41.345334"
      ]
     },
     "execution_count": 6,
     "metadata": {},
     "output_type": "execute_result"
    }
   ],
   "source": [
    "df.describe()"
   ]
  },
  {
   "cell_type": "code",
   "execution_count": 7,
   "metadata": {
    "collapsed": true
   },
   "outputs": [],
   "source": [
    "df_WAC = df[['Wheelchair Accessible Vehicles']]\n",
    "df_zip = df[['Zip']]\n",
    "df_numerial = df_WAC.join(df_zip)"
   ]
  },
  {
   "cell_type": "code",
   "execution_count": 8,
   "metadata": {
    "collapsed": false
   },
   "outputs": [
    {
     "data": {
      "text/html": [
       "<div>\n",
       "<table border=\"1\" class=\"dataframe\">\n",
       "  <thead>\n",
       "    <tr style=\"text-align: right;\">\n",
       "      <th></th>\n",
       "      <th>Wheelchair Accessible Vehicles</th>\n",
       "      <th>Zip</th>\n",
       "    </tr>\n",
       "  </thead>\n",
       "  <tbody>\n",
       "    <tr>\n",
       "      <th>0</th>\n",
       "      <td>0</td>\n",
       "      <td>10307</td>\n",
       "    </tr>\n",
       "    <tr>\n",
       "      <th>1</th>\n",
       "      <td>0</td>\n",
       "      <td>10309</td>\n",
       "    </tr>\n",
       "    <tr>\n",
       "      <th>2</th>\n",
       "      <td>0</td>\n",
       "      <td>10314</td>\n",
       "    </tr>\n",
       "    <tr>\n",
       "      <th>3</th>\n",
       "      <td>0</td>\n",
       "      <td>10308</td>\n",
       "    </tr>\n",
       "    <tr>\n",
       "      <th>4</th>\n",
       "      <td>0</td>\n",
       "      <td>10303</td>\n",
       "    </tr>\n",
       "  </tbody>\n",
       "</table>\n",
       "</div>"
      ],
      "text/plain": [
       "   Wheelchair Accessible Vehicles    Zip\n",
       "0                               0  10307\n",
       "1                               0  10309\n",
       "2                               0  10314\n",
       "3                               0  10308\n",
       "4                               0  10303"
      ]
     },
     "execution_count": 8,
     "metadata": {},
     "output_type": "execute_result"
    }
   ],
   "source": [
    "df_numerial.head()"
   ]
  },
  {
   "cell_type": "code",
   "execution_count": 9,
   "metadata": {
    "collapsed": false
   },
   "outputs": [
    {
     "name": "stdout",
     "output_type": "stream",
     "text": [
      "Populating the interactive namespace from numpy and matplotlib\n"
     ]
    }
   ],
   "source": [
    "import pylab as pl\n",
    "%pylab inline"
   ]
  },
  {
   "cell_type": "code",
   "execution_count": 10,
   "metadata": {
    "collapsed": false
   },
   "outputs": [
    {
     "data": {
      "text/plain": [
       "<matplotlib.text.Text at 0x7f6513cc95f8>"
      ]
     },
     "execution_count": 10,
     "metadata": {},
     "output_type": "execute_result"
    },
    {
     "data": {
      "image/png": "[encoded data removed]",
      "text/plain": [
       "<matplotlib.figure.Figure at 0x7f6513d11588>"
      ]
     },
     "metadata": {},
     "output_type": "display_data"
    }
   ],
   "source": [
    "pl.scatter(df_numerial['Zip'], df_numerial['Wheelchair Accessible Vehicles'])\n",
    "pl.xlabel('Zip')\n",
    "pl.ylabel('Number of Wheelchair Accessible Vehicles')\n",
    "pl.ylim((0, 150))\n",
    "pl.title('Numbers of Wheelchair Accessible Vehicles by zip code')"
   ]
  }
 ],
 "metadata": {
  "kernelspec": {
   "display_name": "PUI2016_Python3",
   "language": "python",
   "name": "pui2016_python3"
  },
  "language_info": {
   "codemirror_mode": {
    "name": "ipython",
    "version": 3
   },
   "file_extension": ".py",
   "mimetype": "text/x-python",
   "name": "python",
   "nbconvert_exporter": "python",
   "pygments_lexer": "ipython3",
   "version": "3.5.2"
  }
 },
 "nbformat": 4,
 "nbformat_minor": 0
}
